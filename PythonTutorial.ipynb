{
  "nbformat": 4,
  "nbformat_minor": 0,
  "metadata": {
    "colab": {
      "name": "PythonTutorial.ipynb",
      "provenance": [],
      "collapsed_sections": []
    },
    "kernelspec": {
      "name": "python3",
      "display_name": "Python 3"
    },
    "language_info": {
      "name": "python"
    }
  },
  "cells": [
    {
      "cell_type": "code",
      "metadata": {
        "colab": {
          "base_uri": "https://localhost:8080/"
        },
        "id": "mxuQV9nL4Xwr",
        "outputId": "4d1133f1-d7af-4b78-d731-22219d4f8a2f"
      },
      "source": [
        "#1\n",
        "print(\"hello world!\")\n",
        "#2\n",
        "price = 4.9\n",
        "print(price)\n",
        "#3\n",
        "name = input('what is ur name? ')\n",
        "print('Hi ' + name)\n",
        "color = input('What is ur fav color?' )\n",
        "print(name + ' likes ' + color)\n"
      ],
      "execution_count": null,
      "outputs": [
        {
          "output_type": "stream",
          "name": "stdout",
          "text": [
            "hello world!\n",
            "4.9\n",
            "what is ur name? Binh\n",
            "Hi Binh\n",
            "What is ur fav color?red\n",
            "Binh likes red\n"
          ]
        }
      ]
    },
    {
      "cell_type": "code",
      "metadata": {
        "id": "SzHGxpL04g8n"
      },
      "source": [
        "#4\n",
        "birth_year = int(input('Birth year: '))\n",
        "age = 2021 - birth_year\n",
        "print(age)"
      ],
      "execution_count": null,
      "outputs": []
    },
    {
      "cell_type": "code",
      "metadata": {
        "colab": {
          "base_uri": "https://localhost:8080/"
        },
        "id": "_2dijCx85Jg3",
        "outputId": "0d3f245b-8c50-40bb-8fb7-51bafa290368"
      },
      "source": [
        "#5\n",
        "weight_lbs = int(input('weight: '))\n",
        "weight_kg = weight_lbs * 0.45\n",
        "print(weight_kg)"
      ],
      "execution_count": null,
      "outputs": [
        {
          "output_type": "stream",
          "name": "stdout",
          "text": [
            "weight: 170\n",
            "76.5\n"
          ]
        }
      ]
    },
    {
      "cell_type": "code",
      "metadata": {
        "colab": {
          "base_uri": "https://localhost:8080/"
        },
        "id": "r32JQzmK6WHt",
        "outputId": "5354f4e2-1155-459c-e2e0-2845d402a9d6"
      },
      "source": [
        "#6\n",
        "course = \"Python's course for beginner\"\n",
        "print(course[-4:-1])"
      ],
      "execution_count": null,
      "outputs": [
        {
          "output_type": "stream",
          "name": "stdout",
          "text": [
            "nne\n"
          ]
        }
      ]
    },
    {
      "cell_type": "code",
      "metadata": {
        "colab": {
          "base_uri": "https://localhost:8080/"
        },
        "id": "ObIubR0F6oku",
        "outputId": "0aeb60c9-fc70-4dbd-d616-09d5803f60f7"
      },
      "source": [
        "#7\n",
        "first = 'John'\n",
        "last = 'Smith'\n",
        "message = first + last + 'is a coder'\n",
        "msg =f'{first} [{last}] is a coder'\n",
        "print(msg)"
      ],
      "execution_count": null,
      "outputs": [
        {
          "output_type": "stream",
          "name": "stdout",
          "text": [
            "John [Smith] is a coder\n"
          ]
        }
      ]
    },
    {
      "cell_type": "code",
      "metadata": {
        "colab": {
          "base_uri": "https://localhost:8080/"
        },
        "id": "tiQtaa6V-STy",
        "outputId": "68b7fdd2-38a6-408e-e620-20e4e3a34bf3"
      },
      "source": [
        "#8\n",
        "course = 'Python for beginners'\n",
        "print(len(course))\n",
        "print(course.upper())\n",
        "print(course.find('o'))\n",
        "print(course.replace('beginners', 'absolute beginners'))\n",
        "print('Python' in course)"
      ],
      "execution_count": 5,
      "outputs": [
        {
          "output_type": "stream",
          "name": "stdout",
          "text": [
            "20\n",
            "PYTHON FOR BEGINNERS\n",
            "4\n",
            "Python for absolute beginners\n",
            "True\n"
          ]
        }
      ]
    },
    {
      "cell_type": "code",
      "metadata": {
        "id": "Ua_DVQb8_KHv",
        "colab": {
          "base_uri": "https://localhost:8080/"
        },
        "outputId": "c573fb65-b773-4c18-d5c9-a1977e787974"
      },
      "source": [
        "#9\n",
        "print(10//3)\n",
        "print(10%3)\n",
        "print(10**2)\n",
        "x = 10\n",
        "x += 3\n",
        "print(x)"
      ],
      "execution_count": 11,
      "outputs": [
        {
          "output_type": "stream",
          "name": "stdout",
          "text": [
            "3\n",
            "1\n",
            "100\n",
            "13\n"
          ]
        }
      ]
    },
    {
      "cell_type": "code",
      "metadata": {
        "colab": {
          "base_uri": "https://localhost:8080/"
        },
        "id": "ROTLCfqZYDo2",
        "outputId": "d00c0f64-d317-4a13-b166-459688684114"
      },
      "source": [
        "#10\n",
        "x = 10 + 3 * 2\n",
        "print(x)"
      ],
      "execution_count": 13,
      "outputs": [
        {
          "output_type": "stream",
          "name": "stdout",
          "text": [
            "16\n"
          ]
        }
      ]
    },
    {
      "cell_type": "code",
      "metadata": {
        "colab": {
          "base_uri": "https://localhost:8080/"
        },
        "id": "Mj3Xub95YnIJ",
        "outputId": "c849cef3-8bd8-4c28-c056-f1f38299eb00"
      },
      "source": [
        "#11\n",
        "x = 2.9\n",
        "print(abs(-2.9))"
      ],
      "execution_count": 15,
      "outputs": [
        {
          "output_type": "stream",
          "name": "stdout",
          "text": [
            "2.9\n"
          ]
        }
      ]
    },
    {
      "cell_type": "code",
      "metadata": {
        "colab": {
          "base_uri": "https://localhost:8080/"
        },
        "id": "zwYDU5PiZa9b",
        "outputId": "11722b99-0e6e-47ce-94bd-ac255fbe0f28"
      },
      "source": [
        "#12\n",
        "import math\n",
        "print(math.ceil(2.9))"
      ],
      "execution_count": 17,
      "outputs": [
        {
          "output_type": "stream",
          "name": "stdout",
          "text": [
            "3\n"
          ]
        }
      ]
    },
    {
      "cell_type": "code",
      "metadata": {
        "colab": {
          "base_uri": "https://localhost:8080/"
        },
        "id": "SFrYOz32cJHV",
        "outputId": "1a54d3bf-d705-4f2d-a4f5-22ac74f78dda"
      },
      "source": [
        "#13\n",
        "is_hot = False\n",
        "is_cold = False\n",
        "if is_hot:\n",
        "  print(\"It's a hot day\")\n",
        "  print('Drink water') \n",
        "elif is_cold:\n",
        "  print(\"it's a cold day\")\n",
        "  print('Wear warm clothes')\n",
        "else:\n",
        "  print(\"It's a lovely day\")\n",
        "print('Enjoy your day')\n"
      ],
      "execution_count": 21,
      "outputs": [
        {
          "output_type": "stream",
          "name": "stdout",
          "text": [
            "It's a lovely day\n",
            "Enjoy your day\n"
          ]
        }
      ]
    },
    {
      "cell_type": "code",
      "metadata": {
        "colab": {
          "base_uri": "https://localhost:8080/"
        },
        "id": "n2Ik9vutciHw",
        "outputId": "8f517a21-d810-470c-e7c5-f08a93347f28"
      },
      "source": [
        "#14\n",
        "house_price = 1000000\n",
        "has_good_credit = False\n",
        "if has_good_credit:\n",
        "  print('Put down: ', house_price*0.1)\n",
        "else:\n",
        "  print('Put down: ', house_price*0.2)"
      ],
      "execution_count": 26,
      "outputs": [
        {
          "output_type": "stream",
          "name": "stdout",
          "text": [
            "Put down:  200000.0\n"
          ]
        }
      ]
    },
    {
      "cell_type": "code",
      "metadata": {
        "colab": {
          "base_uri": "https://localhost:8080/"
        },
        "id": "-URotzd2fRYc",
        "outputId": "87fd9c5c-9acd-4151-ce08-3e4207da786e"
      },
      "source": [
        "#15\n",
        "has_high_income = True\n",
        "has_good_credit = False\n",
        "if has_high_income and has_good_credit:\n",
        "  print('Eligible for loan')\n",
        "else:\n",
        "  print('Not eligible for loan')"
      ],
      "execution_count": 28,
      "outputs": [
        {
          "output_type": "stream",
          "name": "stdout",
          "text": [
            "Not eligible for loan\n"
          ]
        }
      ]
    },
    {
      "cell_type": "code",
      "metadata": {
        "colab": {
          "base_uri": "https://localhost:8080/"
        },
        "id": "MXR4S_1m7SX8",
        "outputId": "0fb40ebe-f666-408d-9436-41103b82da3d"
      },
      "source": [
        "#16\n",
        "temp = 33\n",
        "if temp > 30:\n",
        "  print(\"It's a hot day\")\n",
        "else:\n",
        "  print(\"It's not a hot day\")"
      ],
      "execution_count": 32,
      "outputs": [
        {
          "output_type": "stream",
          "name": "stdout",
          "text": [
            "It's not a hot day\n"
          ]
        }
      ]
    },
    {
      "cell_type": "code",
      "metadata": {
        "colab": {
          "base_uri": "https://localhost:8080/"
        },
        "id": "R-iiZPn27xnp",
        "outputId": "78d8cc41-8487-4291-bbb2-6af93bb61a99"
      },
      "source": [
        "#17\n",
        "name = 'Binh'\n",
        "if len(name) < 3:\n",
        "  print(\"Name must be at least 3 characters long\")\n",
        "if len(name) > 3:\n",
        "  print(\"It's good to go\")"
      ],
      "execution_count": 36,
      "outputs": [
        {
          "output_type": "stream",
          "name": "stdout",
          "text": [
            "It's good to go\n"
          ]
        }
      ]
    },
    {
      "cell_type": "code",
      "metadata": {
        "colab": {
          "base_uri": "https://localhost:8080/"
        },
        "id": "FbLFDeUQ8YFC",
        "outputId": "c3bd442f-f866-4349-b425-3b0fcc0934b4"
      },
      "source": [
        "#weight converter\n",
        "weight = int(input('Weight: '))\n",
        "unit = input('(L)bs or (K)g: ')\n",
        "if unit.upper() == 'L':\n",
        "  converted = weight * 0.45\n",
        "  print(f'You are {converted} kilos')\n",
        "else:\n",
        "  converted = weight // 0.45\n",
        "  print(f'You are {converted} pounds')"
      ],
      "execution_count": 40,
      "outputs": [
        {
          "output_type": "stream",
          "name": "stdout",
          "text": [
            "Weight: 159\n",
            "(L)bs or (K)g: l\n",
            "You are 71.55 kilos\n"
          ]
        }
      ]
    },
    {
      "cell_type": "code",
      "metadata": {
        "colab": {
          "base_uri": "https://localhost:8080/"
        },
        "id": "IOE0qLdB9OJa",
        "outputId": "76610748-8596-4a35-a83f-de06c2e5edc1"
      },
      "source": [
        "#18\n",
        "i = 1\n",
        "while i <= 5:\n",
        "  print(i)\n",
        "  i = i+1\n",
        "print('Done')"
      ],
      "execution_count": 42,
      "outputs": [
        {
          "output_type": "stream",
          "name": "stdout",
          "text": [
            "1\n",
            "2\n",
            "3\n",
            "4\n",
            "5\n",
            "Done\n"
          ]
        }
      ]
    },
    {
      "cell_type": "code",
      "metadata": {
        "id": "Bnn6D6io-XB0"
      },
      "source": [
        "#guesing game\n",
        "secret_number = 5\n",
        "guess_count = 0\n",
        "guess_limit = 3\n",
        "while guess_count < guess_limit:\n",
        "  guess = int(input(\"Guess: \"))\n",
        "  guess_count += 1\n",
        "  if guess == secret_number:\n",
        "    print('You won ')\n",
        "    break\n",
        "else:\n",
        "  print('You failed')\n"
      ],
      "execution_count": null,
      "outputs": []
    },
    {
      "cell_type": "code",
      "metadata": {
        "id": "8lO6h-EgD9Rj"
      },
      "source": [
        "#20\n",
        "for item in ('Binh'):\n",
        "  print(item)\n",
        "#21\n",
        "for item in range(5,10):\n",
        "  print(item)"
      ],
      "execution_count": null,
      "outputs": []
    },
    {
      "cell_type": "code",
      "metadata": {
        "colab": {
          "base_uri": "https://localhost:8080/"
        },
        "id": "MSSeFb4DEaN-",
        "outputId": "9dd0a934-94ff-49b8-a662-1bc59ce95083"
      },
      "source": [
        "#22\n",
        "prices = [10, 40, 50]\n",
        "total = 0\n",
        "for price in prices:\n",
        "  total += price\n",
        "print(f'Total: {total}')\n",
        "  "
      ],
      "execution_count": 50,
      "outputs": [
        {
          "output_type": "stream",
          "name": "stdout",
          "text": [
            "Total: 100\n"
          ]
        }
      ]
    },
    {
      "cell_type": "code",
      "metadata": {
        "colab": {
          "base_uri": "https://localhost:8080/"
        },
        "id": "BpApAiEXE_kU",
        "outputId": "dc89098d-551b-42b5-85da-13d1d2a16cfd"
      },
      "source": [
        "#23\n",
        "names = ['john', 'bob', 'sarah']\n",
        "print(names[0:2])\n",
        "\n",
        "#24\n",
        "numbers = [0,1,2,3,4,9]\n",
        "max = numbers[0]\n",
        "for number in numbers:\n",
        "  if number > max:\n",
        "      max = number\n",
        "print(max)"
      ],
      "execution_count": 56,
      "outputs": [
        {
          "output_type": "stream",
          "name": "stdout",
          "text": [
            "['john', 'bob']\n",
            "9\n"
          ]
        }
      ]
    },
    {
      "cell_type": "code",
      "metadata": {
        "id": "HVS4-67RM76q"
      },
      "source": [
        "#24\n",
        "matrix = [\n",
        "            [1, 2, 3],\n",
        "            [4, 5, 6],\n",
        "            [7, 8, 9]\n",
        "]\n",
        "for row in matrix:\n",
        "  for item in row:\n",
        "    print(item)"
      ],
      "execution_count": null,
      "outputs": []
    },
    {
      "cell_type": "code",
      "metadata": {
        "colab": {
          "base_uri": "https://localhost:8080/"
        },
        "id": "ZQj1EvBlPFMT",
        "outputId": "fbbf9f6c-de82-4559-b494-d16fc29e3f74"
      },
      "source": [
        "#25\n",
        "numbers = [5,3,6,7,8]\n",
        "numbers.insert(4,5)\n",
        "numbers.remove(5)\n",
        "numbers.pop()\n",
        "print(numbers)\n"
      ],
      "execution_count": 70,
      "outputs": [
        {
          "output_type": "stream",
          "name": "stdout",
          "text": [
            "[3, 6, 7, 5]\n"
          ]
        }
      ]
    },
    {
      "cell_type": "code",
      "metadata": {
        "colab": {
          "base_uri": "https://localhost:8080/"
        },
        "id": "4NarDo4uPxLT",
        "outputId": "8d3469ab-7772-4215-e325-827036665287"
      },
      "source": [
        "#26\n",
        "numbers = [5,5,2,4,4,3,3]\n",
        "uniques = []\n",
        "for number in numbers:\n",
        "  if number not in uniques:\n",
        "    uniques.append(number)\n",
        "print(uniques)"
      ],
      "execution_count": 71,
      "outputs": [
        {
          "output_type": "stream",
          "name": "stdout",
          "text": [
            "[5, 2, 4, 3]\n"
          ]
        }
      ]
    },
    {
      "cell_type": "code",
      "metadata": {
        "colab": {
          "base_uri": "https://localhost:8080/"
        },
        "id": "j81-ZB6hQuGV",
        "outputId": "08547646-6e86-4dd6-e722-5d385e03bc6b"
      },
      "source": [
        "#27\n",
        "coordinates = (1,2,3)\n",
        "\n",
        "x, y, z = coordinates\n",
        "print(x)"
      ],
      "execution_count": 75,
      "outputs": [
        {
          "output_type": "stream",
          "name": "stdout",
          "text": [
            "1\n"
          ]
        }
      ]
    },
    {
      "cell_type": "code",
      "metadata": {
        "colab": {
          "base_uri": "https://localhost:8080/"
        },
        "id": "dD-rAORORsH-",
        "outputId": "8eaaa5a1-7c67-4488-997d-092529e9f058"
      },
      "source": [
        "#28 dict\n",
        "customer = {\n",
        "    'name': 'John Smith',\n",
        "    'age' :  30,\n",
        "    'is_verified' : True\n",
        "}\n",
        "print(customer.get('birthday', '19 Jan 1998'))\n"
      ],
      "execution_count": 81,
      "outputs": [
        {
          "output_type": "stream",
          "name": "stdout",
          "text": [
            "19 Jan 1998\n"
          ]
        }
      ]
    },
    {
      "cell_type": "code",
      "metadata": {
        "colab": {
          "base_uri": "https://localhost:8080/"
        },
        "id": "gHKDMW4jSHRq",
        "outputId": "9f6fb064-1a03-4411-bed2-a0ebc0128642"
      },
      "source": [
        "#29\n",
        "phone = input('Phone: ')\n",
        "digits_mapping = {\n",
        "    '1': 'one',\n",
        "    '2': 'two',\n",
        "    '3': 'three',\n",
        "    '4': 'four'\n",
        "}\n",
        "output = ' '\n",
        "for ch in phone:\n",
        "  output += digits_mapping.get(ch, '!') + ' '\n",
        "print(output)"
      ],
      "execution_count": 85,
      "outputs": [
        {
          "output_type": "stream",
          "name": "stdout",
          "text": [
            "Phone: 1234\n",
            " one two three four \n"
          ]
        }
      ]
    },
    {
      "cell_type": "code",
      "metadata": {
        "colab": {
          "base_uri": "https://localhost:8080/"
        },
        "id": "Wz49ttP2TxFS",
        "outputId": "29729cdf-c307-4cae-c715-10eedac84b5c"
      },
      "source": [
        "#f30 function\n",
        "def greet(name):\n",
        "  print('Hi there', name)\n",
        "  print('Welcome', name)\n",
        "greet('John')"
      ],
      "execution_count": 88,
      "outputs": [
        {
          "output_type": "stream",
          "name": "stdout",
          "text": [
            "Hi there John\n",
            "Welcome John\n"
          ]
        }
      ]
    },
    {
      "cell_type": "code",
      "metadata": {
        "colab": {
          "base_uri": "https://localhost:8080/"
        },
        "id": "_69TC0XUVFH-",
        "outputId": "ef45009a-8355-4f4d-ad56-def1cbea4c4c"
      },
      "source": [
        "#31\n",
        "def square(number):\n",
        "  return number * number\n",
        "\n",
        "square(4)\n"
      ],
      "execution_count": 90,
      "outputs": [
        {
          "output_type": "execute_result",
          "data": {
            "text/plain": [
              "16"
            ]
          },
          "metadata": {},
          "execution_count": 90
        }
      ]
    },
    {
      "cell_type": "code",
      "metadata": {
        "colab": {
          "base_uri": "https://localhost:8080/"
        },
        "id": "7EkNdgzpW1M_",
        "outputId": "ac16121e-e71b-4423-831f-85a9b769ff8a"
      },
      "source": [
        "#exception\n",
        "try:\n",
        "  age = int(input('Age: '))\n",
        "  income = 2000\n",
        "  risk = income/age\n",
        "  print(age)\n",
        "except ZeroDivisionError:\n",
        "  print('age can not be 0')\n",
        "except ValueError:\n",
        "  print('Invalid value')"
      ],
      "execution_count": 94,
      "outputs": [
        {
          "output_type": "stream",
          "name": "stdout",
          "text": [
            "Age: 0\n",
            "age can not be 0\n"
          ]
        }
      ]
    },
    {
      "cell_type": "code",
      "metadata": {
        "id": "CJy_F2I0aLrp"
      },
      "source": [
        ""
      ],
      "execution_count": null,
      "outputs": []
    }
  ]
}