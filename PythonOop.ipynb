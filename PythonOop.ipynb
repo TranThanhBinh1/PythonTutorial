{
  "nbformat": 4,
  "nbformat_minor": 0,
  "metadata": {
    "colab": {
      "name": "PythonOop.ipynb",
      "provenance": [],
      "authorship_tag": "ABX9TyPWLOejQXz+4XrkgpkrTZUO",
      "include_colab_link": true
    },
    "kernelspec": {
      "name": "python3",
      "display_name": "Python 3"
    },
    "language_info": {
      "name": "python"
    }
  },
  "cells": [
    {
      "cell_type": "markdown",
      "metadata": {
        "id": "view-in-github",
        "colab_type": "text"
      },
      "source": [
        "<a href=\"https://colab.research.google.com/github/TranThanhBinh1/PythonTutorial/blob/main/PythonOop.ipynb\" target=\"_parent\"><img src=\"https://colab.research.google.com/assets/colab-badge.svg\" alt=\"Open In Colab\"/></a>"
      ]
    },
    {
      "cell_type": "code",
      "metadata": {
        "id": "WZN2lCA5oyjP"
      },
      "source": [
        "#Encapsulation - packing data and functions that work on that data within a single object\n",
        "#Private attributes\n",
        "class Student:\n",
        "    __schoolName = 'VNUIS' # private class attribute\n",
        "\n",
        "    def __init__(self, name, age):\n",
        "        self.__name = name  # private instance attribute\n",
        "        self.__age = age # private instance attribute\n",
        "\n",
        "#Protected attributes\n",
        "class Student:\n",
        "    _schoolName = 'VNUIS' # private class attribute\n",
        "\n",
        "    def __init__(self, name, age):\n",
        "        self._name = name  # protected instance attribute\n",
        "        self._age = age # protected instance attribute\n",
        "\n",
        "\n",
        "\n",
        "\n",
        "\n",
        "\n"
      ],
      "execution_count": 45,
      "outputs": []
    },
    {
      "cell_type": "code",
      "metadata": {
        "colab": {
          "base_uri": "https://localhost:8080/"
        },
        "id": "EMmJb-BFBGEn",
        "outputId": "75c80b41-0ca6-49fe-be8a-ec666f917c28"
      },
      "source": [
        "#class\n",
        "class Person:\n",
        "  def __init__(self, name, age):\n",
        "    self.name = name\n",
        "    self.age = age\n",
        "  \n",
        "  def hello(self):\n",
        "    print(f\"{self.name} is {self.age} years old\")\n",
        "\n",
        "p1 = Person('Binh', 19)\n",
        "print(p1.age)\n",
        "p1.hello()"
      ],
      "execution_count": 46,
      "outputs": [
        {
          "output_type": "stream",
          "name": "stdout",
          "text": [
            "19\n",
            "Binh is 19 years old\n"
          ]
        }
      ]
    },
    {
      "cell_type": "code",
      "metadata": {
        "colab": {
          "base_uri": "https://localhost:8080/"
        },
        "id": "Tcw898iSCWD_",
        "outputId": "5266fd05-1199-45dc-e5fb-e22dbd1c614f"
      },
      "source": [
        "#Inheritance\n",
        "class Person:\n",
        "  def __init__(self, fname, lname):\n",
        "    self.fname = fname;\n",
        "    self.lname = lname;\n",
        "  \n",
        "  def Printname(self):\n",
        "    print(self.fname,self.lname)\n",
        "\n",
        "#child class\n",
        "class Student(Person):\n",
        "  pass\n",
        "\n",
        "s1 = Student('Johnny','Dang')\n",
        "s1.Printname()"
      ],
      "execution_count": 47,
      "outputs": [
        {
          "output_type": "stream",
          "name": "stdout",
          "text": [
            "Johnny Dang\n"
          ]
        }
      ]
    },
    {
      "cell_type": "code",
      "metadata": {
        "id": "k6YiWIBUH-6Z",
        "colab": {
          "base_uri": "https://localhost:8080/"
        },
        "outputId": "e363d7f9-aee5-4756-917b-b7a71f2d579c"
      },
      "source": [
        "#Polymorphism - methods that can work with different data types\n",
        "#Polymorphism in Class Methods\n",
        "class Cat:\n",
        "    def __init__(self, name, age):\n",
        "        self.name = name\n",
        "        self.age = age\n",
        "\n",
        "    def info(self):\n",
        "        print(f\"I am a cat. My name is {self.name}. I am {self.age} years old.\")\n",
        "\n",
        "    def make_sound(self):\n",
        "        print(\"Meow\")\n",
        "\n",
        "\n",
        "class Dog:\n",
        "    def __init__(self, name, age):\n",
        "        self.name = name\n",
        "        self.age = age\n",
        "\n",
        "    def info(self):\n",
        "        print(f\"I am a dog. My name is {self.name}. I am {self.age} years old.\")\n",
        "\n",
        "    def make_sound(self):\n",
        "        print(\"Bark\")\n",
        "\n",
        "\n",
        "cat1 = Cat(\"Bo\", 2)\n",
        "dog1 = Dog(\"Gold\", 4)\n",
        "\n",
        "for animal in (cat1, dog1):\n",
        "    animal.make_sound()\n",
        "    animal.info()\n",
        "    animal.make_sound()\n",
        "\n"
      ],
      "execution_count": 48,
      "outputs": [
        {
          "output_type": "stream",
          "name": "stdout",
          "text": [
            "Meow\n",
            "I am a cat. My name is Bo. I am 2 years old.\n",
            "Meow\n",
            "Bark\n",
            "I am a dog. My name is Gold. I am 4 years old.\n",
            "Bark\n"
          ]
        }
      ]
    },
    {
      "cell_type": "code",
      "metadata": {
        "colab": {
          "base_uri": "https://localhost:8080/"
        },
        "id": "hBrEhFPdOif4",
        "outputId": "261ed70a-89e3-4be7-a74e-3059ef9308a4"
      },
      "source": [
        "#Abstraction\n",
        "from abc import ABC\n",
        "class type_shape(ABC): \n",
        "  def area(self): \n",
        "    #abstract method\n",
        "    pass\n",
        "\n",
        "class Rectangle(type_shape):\n",
        "  length = 6\n",
        "  breadth = 4\n",
        "  def area(self):\n",
        "    return self.length * self.breadth\n",
        "\n",
        "class Circle(type_shape):\n",
        "  radius = 7\n",
        "  def area(self):\n",
        "    return 3.14 * self.radius * self.radius\n",
        "\n",
        "r = Rectangle() # object created for the class 'Rectangle'\n",
        "c = Circle() # object created for the class 'Circle'\n",
        "\n",
        "print(\"Area of a rectangle:\", r.area()) # call to 'area' method defined inside the class.\n",
        "print(\"Area of a circle:\", c.area()) # call to 'area' method defined inside the class."
      ],
      "execution_count": 49,
      "outputs": [
        {
          "output_type": "stream",
          "name": "stdout",
          "text": [
            "Area of a rectangle: 24\n",
            "Area of a circle: 153.86\n"
          ]
        }
      ]
    }
  ]
}