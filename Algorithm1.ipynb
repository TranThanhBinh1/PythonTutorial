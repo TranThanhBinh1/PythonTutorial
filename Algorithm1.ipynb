{
  "nbformat": 4,
  "nbformat_minor": 0,
  "metadata": {
    "colab": {
      "name": "Algorithm1.ipynb",
      "provenance": [],
      "authorship_tag": "ABX9TyNIHQdaUyUnGkzKLzDOvPeT",
      "include_colab_link": true
    },
    "kernelspec": {
      "name": "python3",
      "display_name": "Python 3"
    },
    "language_info": {
      "name": "python"
    }
  },
  "cells": [
    {
      "cell_type": "markdown",
      "metadata": {
        "id": "view-in-github",
        "colab_type": "text"
      },
      "source": [
        "<a href=\"https://colab.research.google.com/github/TranThanhBinh1/PythonTutorial/blob/main/Algorithm1.ipynb\" target=\"_parent\"><img src=\"https://colab.research.google.com/assets/colab-badge.svg\" alt=\"Open In Colab\"/></a>"
      ]
    },
    {
      "cell_type": "markdown",
      "metadata": {
        "id": "23Yxr7Qj6g4Q"
      },
      "source": [
        "#1: Algorithms and Computation\n",
        "a)Algorithm:     \n",
        "  - Procedure mapping each input to a single output (deterministic)\n",
        "  - Algorithm solves a problem if it returns a correct output for every problem input\n",
        "  - Must use induction (why recursion is such a key concept in computer science)\n",
        "\n",
        "b)Correctness:    \n",
        "  - Using case analysis for small cases\n",
        "  - For arbitrarily large inputs, algorithm must be recursive or loop in some way \n",
        "\n",
        "c)Efficiency:\n",
        "  - Count operations\n",
        "  - Expect performance to depend on size of the input\n",
        "\n",
        "d)Model of computation\n",
        "  - Word-RAM : Specification for what operations on the machine can be performed in O(1) time \n",
        "  - Python is a more complicated model of computation, implemented on a Word-RAM \n",
        "\n",
        "e)Data structure\n",
        "  - A data structure is a way to store non-constant data, that supports a set of operations \n",
        "  - A collection of operations is called an interface "
      ]
    },
    {
      "cell_type": "markdown",
      "metadata": {
        "id": "Z8sm73cHul0m"
      },
      "source": [
        "#2 Data structurea and Dynamic arrays\n",
        "\n",
        "*Interface (api/adi) vs data structure\n",
        "  - Interface says what you want to do and Data structure says how you do it\n",
        "  - Interface: Specification, what data can store, what ops are supported 4 what they mean\n",
        "  - Ds: representation, how to store data, algorithms to support ops\n",
        "\n",
        "*Static sequences & static arrays\n",
        "  - Static sequence interface: maintain a sequence of items x0,x1,...subject to these operations: build(make new DS) - len() - iter_self(output array in sequence order) - get_at(i)(return xi) - set_at(set xi to x)\n",
        "  - Solution: static array\n",
        "  - Memory allocation model: allocate array of size n in O(n) time\n",
        "  => space = O(time)\n"
      ]
    },
    {
      "cell_type": "markdown",
      "metadata": {
        "id": "PgRm4QDh9yqe"
      },
      "source": [
        "#3 Sets and sorting\n",
        "a)Set interface\n",
        "  - Storing items in an array in arbitrary order can implement a (not so efficient) set\n",
        "b)Sorting\n",
        "  - A sort is destructive if it overwrites A (instead of making a new array B that is a sorted\n",
        "version of A) \n",
        "  - A sort is in place if it uses O(1) extra space"
      ]
    },
    {
      "cell_type": "markdown",
      "metadata": {
        "id": "UtZXno9X-TnE"
      },
      "source": [
        "#4 Heaps and Heap sort\n",
        "a) Piority queue\n",
        "  - Keep track of many items, quickly access/remove the most important\n",
        "  - Order items by key = priority so Set interface\n",
        "  \n",
        "b) Heap \n",
        "  - Implementation of a priority queue\n",
        "  - An array, visualized as a nearly complete binary tree \n",
        "  - Max Heap Property: The key of a node is ≥ than the keys of\n",
        "its children "
      ]
    },
    {
      "cell_type": "markdown",
      "metadata": {
        "id": "wcUCshRE_vPa"
      },
      "source": [
        "#5 Binary tree\n",
        "- Each node x in the binary tree has a key key(x). Nodes other than the root have a parent p(x). Nodes may have a left child lef t(x) and/or a right child right(x). \n",
        "- These are pointers unlike in a heap.\n",
        "- The invariant is: for any node x, for all nodes y in the left subtree of x, key(y) ≤ key(x). For all nodes y in the right subtree of x key(y) ≥ key(x).\n",
        "\n"
      ]
    },
    {
      "cell_type": "code",
      "metadata": {
        "colab": {
          "base_uri": "https://localhost:8080/"
        },
        "id": "Sl4lhi9XuroC",
        "outputId": "cddeaa6b-b171-43ac-e331-84c585384f08"
      },
      "source": [
        "#Selection sort\n",
        "def selectionSort(array, size):\n",
        "   \n",
        "    for step in range(size):\n",
        "        min_idx = step\n",
        "\n",
        "        for i in range(step + 1, size):\n",
        "            if array[i] < array[min_idx]:\n",
        "                min_idx = i\n",
        "        (array[step], array[min_idx]) = (array[min_idx], array[step])\n",
        "\n",
        "\n",
        "data = [2, 23, 0, 19, -9]\n",
        "size = len(data)\n",
        "selectionSort(data, size)\n",
        "print('Sorted Array:')\n",
        "print(data)"
      ],
      "execution_count": null,
      "outputs": [
        {
          "output_type": "stream",
          "name": "stdout",
          "text": [
            "Sorted Array:\n",
            "[-9, 0, 2, 19, 23]\n"
          ]
        }
      ]
    },
    {
      "cell_type": "code",
      "metadata": {
        "colab": {
          "base_uri": "https://localhost:8080/"
        },
        "id": "QyUiB0DVtyCp",
        "outputId": "d3820fce-459f-4c49-cf72-8c39b553c7b9"
      },
      "source": [
        "#Merge sort\n",
        "def mergeSort(myList):\n",
        "    if len(myList) > 1:\n",
        "        mid = len(myList) // 2\n",
        "        left = myList[:mid]\n",
        "        right = myList[mid:]\n",
        "\n",
        "        mergeSort(left)\n",
        "        mergeSort(right)\n",
        "        i = 0\n",
        "        j = 0\n",
        "        k = 0\n",
        "        \n",
        "        while i < len(left) and j < len(right):\n",
        "            if left[i] <= right[j]:\n",
        "              myList[k] = left[i]\n",
        "              i += 1\n",
        "            else:\n",
        "                myList[k] = right[j]\n",
        "                j += 1\n",
        "            k += 1\n",
        "\n",
        "        while i < len(left):\n",
        "            myList[k] = left[i]\n",
        "            i += 1\n",
        "            k += 1\n",
        "\n",
        "        while j < len(right):\n",
        "            myList[k]=right[j]\n",
        "            j += 1\n",
        "            k += 1\n",
        "\n",
        "myList = [54,26,17,31,55,20]\n",
        "mergeSort(myList)\n",
        "print(myList)"
      ],
      "execution_count": null,
      "outputs": [
        {
          "output_type": "stream",
          "name": "stdout",
          "text": [
            "[17, 20, 26, 31, 54, 55]\n"
          ]
        }
      ]
    },
    {
      "cell_type": "code",
      "metadata": {
        "id": "OQDqriyf1NS4"
      },
      "source": [
        "#Binary search tree\n",
        "class Node:\n",
        "    def __init__(self, key):\n",
        "        self.left = None\n",
        "        self.right = None\n",
        "        self.val = key\n",
        "\n",
        "def insert(root, key):\n",
        "    if root is None:\n",
        "        return Node(key)\n",
        "    else:\n",
        "        if root.val == key:\n",
        "            return root\n",
        "        elif root.val < key:\n",
        "            root.right = insert(root.right, key)\n",
        "        else:\n",
        "            root.left = insert(root.left, key)\n",
        "    return root\n",
        "\n",
        "def inorder(root):\n",
        "    if root:\n",
        "        inorder(root.left)\n",
        "        print(root.val)\n",
        "        inorder(root.right)\n",
        "\n",
        "r = Node(50)\n",
        "r = insert(r, 30)\n",
        "r = insert(r, 20)\n",
        "r = insert(r, 40)\n",
        "r = insert(r, 70)\n",
        "r = insert(r, 60)\n",
        "r = insert(r, 80)\n",
        "\n",
        "inorder(r)"
      ],
      "execution_count": null,
      "outputs": []
    }
  ]
}